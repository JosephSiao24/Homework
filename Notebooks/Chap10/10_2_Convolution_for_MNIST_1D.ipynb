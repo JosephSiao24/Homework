{
  "nbformat": 4,
  "nbformat_minor": 0,
  "metadata": {
    "colab": {
      "provenance": [],
      "include_colab_link": true
    },
    "kernelspec": {
      "name": "python3",
      "display_name": "Python 3"
    },
    "language_info": {
      "name": "python"
    }
  },
  "cells": [
    {
      "cell_type": "markdown",
      "metadata": {
        "id": "view-in-github",
        "colab_type": "text"
      },
      "source": [
        "<a href=\"https://colab.research.google.com/github/JosephSiao24/Homework/blob/main/Notebooks/Chap10/10_2_Convolution_for_MNIST_1D.ipynb\" target=\"_parent\"><img src=\"https://colab.research.google.com/assets/colab-badge.svg\" alt=\"Open In Colab\"/></a>"
      ]
    },
    {
      "cell_type": "markdown",
      "source": [
        "# **Notebook 10.2: Convolution for MNIST-1D**\n",
        "\n",
        "This notebook investigates a 1D convolutional network for MNIST-1D as in figure 10.7 and 10.8a.\n",
        "\n",
        "Work through the cells below, running each cell in turn. In various places you will see the words \"TODO\". Follow the instructions at these places and make predictions about what is going to happen or write code to complete the functions.\n",
        "\n",
        "Contact me at udlbookmail@gmail.com if you find any mistakes or have any suggestions.\n",
        "\n"
      ],
      "metadata": {
        "id": "t9vk9Elugvmi"
      }
    },
    {
      "cell_type": "code",
      "source": [
        "# Run this if you're in a Colab to install MNIST 1D repository\n",
        "!pip install git+https://github.com/greydanus/mnist1d"
      ],
      "metadata": {
        "id": "D5yLObtZCi9J",
        "outputId": "1f3e6d19-8a64-4dab-d7d2-2eef3e690999",
        "colab": {
          "base_uri": "https://localhost:8080/"
        }
      },
      "execution_count": 1,
      "outputs": [
        {
          "output_type": "stream",
          "name": "stdout",
          "text": [
            "Collecting git+https://github.com/greydanus/mnist1d\n",
            "  Cloning https://github.com/greydanus/mnist1d to /tmp/pip-req-build-56ld9m1y\n",
            "  Running command git clone --filter=blob:none --quiet https://github.com/greydanus/mnist1d /tmp/pip-req-build-56ld9m1y\n",
            "  Resolved https://github.com/greydanus/mnist1d to commit 7878d96082abd200c546a07a4101fa90b30fdf7e\n",
            "  Installing build dependencies ... \u001b[?25l\u001b[?25hdone\n",
            "  Getting requirements to build wheel ... \u001b[?25l\u001b[?25hdone\n",
            "  Preparing metadata (pyproject.toml) ... \u001b[?25l\u001b[?25hdone\n",
            "Requirement already satisfied: requests in /usr/local/lib/python3.12/dist-packages (from mnist1d==0.0.2.post16) (2.32.4)\n",
            "Requirement already satisfied: numpy in /usr/local/lib/python3.12/dist-packages (from mnist1d==0.0.2.post16) (2.0.2)\n",
            "Requirement already satisfied: matplotlib in /usr/local/lib/python3.12/dist-packages (from mnist1d==0.0.2.post16) (3.10.0)\n",
            "Requirement already satisfied: scipy in /usr/local/lib/python3.12/dist-packages (from mnist1d==0.0.2.post16) (1.16.1)\n",
            "Requirement already satisfied: contourpy>=1.0.1 in /usr/local/lib/python3.12/dist-packages (from matplotlib->mnist1d==0.0.2.post16) (1.3.3)\n",
            "Requirement already satisfied: cycler>=0.10 in /usr/local/lib/python3.12/dist-packages (from matplotlib->mnist1d==0.0.2.post16) (0.12.1)\n",
            "Requirement already satisfied: fonttools>=4.22.0 in /usr/local/lib/python3.12/dist-packages (from matplotlib->mnist1d==0.0.2.post16) (4.59.2)\n",
            "Requirement already satisfied: kiwisolver>=1.3.1 in /usr/local/lib/python3.12/dist-packages (from matplotlib->mnist1d==0.0.2.post16) (1.4.9)\n",
            "Requirement already satisfied: packaging>=20.0 in /usr/local/lib/python3.12/dist-packages (from matplotlib->mnist1d==0.0.2.post16) (25.0)\n",
            "Requirement already satisfied: pillow>=8 in /usr/local/lib/python3.12/dist-packages (from matplotlib->mnist1d==0.0.2.post16) (11.3.0)\n",
            "Requirement already satisfied: pyparsing>=2.3.1 in /usr/local/lib/python3.12/dist-packages (from matplotlib->mnist1d==0.0.2.post16) (3.2.3)\n",
            "Requirement already satisfied: python-dateutil>=2.7 in /usr/local/lib/python3.12/dist-packages (from matplotlib->mnist1d==0.0.2.post16) (2.9.0.post0)\n",
            "Requirement already satisfied: charset_normalizer<4,>=2 in /usr/local/lib/python3.12/dist-packages (from requests->mnist1d==0.0.2.post16) (3.4.3)\n",
            "Requirement already satisfied: idna<4,>=2.5 in /usr/local/lib/python3.12/dist-packages (from requests->mnist1d==0.0.2.post16) (3.10)\n",
            "Requirement already satisfied: urllib3<3,>=1.21.1 in /usr/local/lib/python3.12/dist-packages (from requests->mnist1d==0.0.2.post16) (2.5.0)\n",
            "Requirement already satisfied: certifi>=2017.4.17 in /usr/local/lib/python3.12/dist-packages (from requests->mnist1d==0.0.2.post16) (2025.8.3)\n",
            "Requirement already satisfied: six>=1.5 in /usr/local/lib/python3.12/dist-packages (from python-dateutil>=2.7->matplotlib->mnist1d==0.0.2.post16) (1.17.0)\n",
            "Building wheels for collected packages: mnist1d\n",
            "  Building wheel for mnist1d (pyproject.toml) ... \u001b[?25l\u001b[?25hdone\n",
            "  Created wheel for mnist1d: filename=mnist1d-0.0.2.post16-py3-none-any.whl size=14665 sha256=0b338d570f58a85924f22919748dd5d95eb996b27300d502a46f9177b0772b3e\n",
            "  Stored in directory: /tmp/pip-ephem-wheel-cache-y8tkj8x6/wheels/18/40/b6/29381fee9b4c80fdbc304d52bb065a7286bbcca5ca2b8737c0\n",
            "Successfully built mnist1d\n",
            "Installing collected packages: mnist1d\n",
            "Successfully installed mnist1d-0.0.2.post16\n"
          ]
        }
      ]
    },
    {
      "cell_type": "code",
      "source": [
        "import numpy as np\n",
        "import os\n",
        "import torch, torch.nn as nn\n",
        "from torch.utils.data import TensorDataset, DataLoader\n",
        "from torch.optim.lr_scheduler import StepLR\n",
        "import matplotlib.pyplot as plt\n",
        "import mnist1d\n",
        "import random"
      ],
      "metadata": {
        "id": "YrXWAH7sUWvU"
      },
      "execution_count": 2,
      "outputs": []
    },
    {
      "cell_type": "code",
      "source": [
        "args = mnist1d.data.get_dataset_args()\n",
        "data = mnist1d.data.get_dataset(args, path='./mnist1d_data.pkl', download=False, regenerate=False)\n",
        "\n",
        "# The training and test input and outputs are in\n",
        "# data['x'], data['y'], data['x_test'], and data['y_test']\n",
        "print(\"Examples in training set: {}\".format(len(data['y'])))\n",
        "print(\"Examples in test set: {}\".format(len(data['y_test'])))\n",
        "print(\"Length of each example: {}\".format(data['x'].shape[-1]))"
      ],
      "metadata": {
        "id": "twI72ZCrCt5z",
        "outputId": "3ee84ba1-47f9-4304-fe42-9550ccb695b2",
        "colab": {
          "base_uri": "https://localhost:8080/"
        }
      },
      "execution_count": 3,
      "outputs": [
        {
          "output_type": "stream",
          "name": "stdout",
          "text": [
            "Did or could not load data from ./mnist1d_data.pkl. Rebuilding dataset...\n",
            "Examples in training set: 4000\n",
            "Examples in test set: 1000\n",
            "Length of each example: 40\n"
          ]
        }
      ]
    },
    {
      "cell_type": "code",
      "source": [
        "# Load in the data\n",
        "train_data_x = data['x'].transpose()\n",
        "train_data_y = data['y']\n",
        "val_data_x = data['x_test'].transpose()\n",
        "val_data_y = data['y_test']\n",
        "# Print out sizes\n",
        "print(\"Train data: %d examples (columns), each of which has %d dimensions (rows)\"%((train_data_x.shape[1],train_data_x.shape[0])))\n",
        "print(\"Validation data: %d examples (columns), each of which has %d dimensions (rows)\"%((val_data_x.shape[1],val_data_x.shape[0])))"
      ],
      "metadata": {
        "id": "8bKADvLHbiV5",
        "outputId": "a24dcd0f-c1d1-4866-b361-4b9a180b54ee",
        "colab": {
          "base_uri": "https://localhost:8080/"
        }
      },
      "execution_count": 4,
      "outputs": [
        {
          "output_type": "stream",
          "name": "stdout",
          "text": [
            "Train data: 4000 examples (columns), each of which has 40 dimensions (rows)\n",
            "Validation data: 1000 examples (columns), each of which has 40 dimensions (rows)\n"
          ]
        }
      ]
    },
    {
      "cell_type": "markdown",
      "source": [
        "Define the network"
      ],
      "metadata": {
        "id": "_sFvRDGrl4qe"
      }
    },
    {
      "cell_type": "code",
      "source": [
        "# There are 40 input dimensions and 10 output dimensions for this data\n",
        "# The inputs correspond to the 40 offsets in the MNIST1D template.\n",
        "D_i = 40\n",
        "# The outputs correspond to the 10 digits\n",
        "D_o = 10\n",
        "\n",
        "\n",
        "# TODO Create a model with the following layers\n",
        "# 1. Convolutional layer, (input=length 40 and 1 channel, kernel size 3, stride 2, padding=\"valid\", 15 output channels )\n",
        "# 2. ReLU\n",
        "# 3. Convolutional layer, (input=length 19 and 15 channels, kernel size 3, stride 2, padding=\"valid\", 15 output channels )\n",
        "# 4. ReLU\n",
        "# 5. Convolutional layer, (input=length 9 and 15 channels, kernel size 3, stride 2, padding=\"valid\", 15 output channels)\n",
        "# 6. ReLU\n",
        "# 7. Flatten (converts 4x15) to length 60\n",
        "# 8. Linear layer (input size = 60, output size = 10)\n",
        "# References:\n",
        "# https://pytorch.org/docs/1.13/generated/torch.nn.Conv1d.html?highlight=conv1d#torch.nn.Conv1d\n",
        "# https://pytorch.org/docs/stable/generated/torch.nn.Flatten.html\n",
        "# https://pytorch.org/docs/1.13/generated/torch.nn.Linear.html?highlight=linear#torch.nn.Linear\n",
        "\n",
        "# NOTE THAT THE CONVOLUTIONAL LAYERS NEED TO TAKE THE NUMBER OF INPUT CHANNELS AS A PARAMETER\n",
        "# AND NOT THE INPUT SIZE.\n",
        "\n",
        "# Replace the following function:\n",
        "model = nn.Sequential(\n",
        "nn.Conv1d(1, 15, 3, 2, padding=\"valid\"),\n",
        "nn.ReLU(),\n",
        "nn.Conv1d(15, 15, 3, 2, padding=\"valid\"),\n",
        "nn.ReLU(),\n",
        "nn.Conv1d(15, 15, 3, 2, padding=\"valid\"),\n",
        "nn.Flatten(),\n",
        "nn.Linear(60, 10))\n",
        "\n",
        "\n",
        "\n"
      ],
      "metadata": {
        "id": "FslroPJJffrh"
      },
      "execution_count": 7,
      "outputs": []
    },
    {
      "cell_type": "code",
      "source": [
        "# He initialization of weights\n",
        "def weights_init(layer_in):\n",
        "  if isinstance(layer_in, nn.Linear):\n",
        "    nn.init.kaiming_uniform_(layer_in.weight)\n",
        "    layer_in.bias.data.fill_(0.0)"
      ],
      "metadata": {
        "id": "YgLaex1pfhqz"
      },
      "execution_count": 8,
      "outputs": []
    },
    {
      "cell_type": "code",
      "source": [
        "# choose cross entropy loss function (equation 5.24 in the loss notes)\n",
        "loss_function = nn.CrossEntropyLoss()\n",
        "# construct SGD optimizer and initialize learning rate and momentum\n",
        "optimizer = torch.optim.SGD(model.parameters(), lr = 0.05, momentum=0.9)\n",
        "# object that decreases learning rate by half every 20 epochs\n",
        "scheduler = StepLR(optimizer, step_size=20, gamma=0.5)\n",
        "# create 100 dummy data points and store in data loader class\n",
        "x_train = torch.tensor(train_data_x.transpose().astype('float32'))\n",
        "y_train = torch.tensor(train_data_y.astype('long')).long()\n",
        "x_val= torch.tensor(val_data_x.transpose().astype('float32'))\n",
        "y_val = torch.tensor(val_data_y.astype('long')).long()\n",
        "\n",
        "# load the data into a class that creates the batches\n",
        "data_loader = DataLoader(TensorDataset(x_train,y_train), batch_size=100, shuffle=True, worker_init_fn=np.random.seed(1))\n",
        "\n",
        "# Initialize model weights\n",
        "model.apply(weights_init)\n",
        "\n",
        "# loop over the dataset n_epoch times\n",
        "n_epoch = 100\n",
        "# store the loss and the % correct at each epoch\n",
        "losses_train = np.zeros((n_epoch))\n",
        "errors_train = np.zeros((n_epoch))\n",
        "losses_val = np.zeros((n_epoch))\n",
        "errors_val = np.zeros((n_epoch))\n",
        "\n",
        "for epoch in range(n_epoch):\n",
        "  # loop over batches\n",
        "  for i, data in enumerate(data_loader):\n",
        "    # retrieve inputs and labels for this batch\n",
        "    x_batch, y_batch = data\n",
        "    # zero the parameter gradients\n",
        "    optimizer.zero_grad()\n",
        "    # forward pass -- calculate model output\n",
        "    pred = model(x_batch[:,None,:])\n",
        "    # compute the loss\n",
        "    loss = loss_function(pred, y_batch)\n",
        "    # backward pass\n",
        "    loss.backward()\n",
        "    # SGD update\n",
        "    optimizer.step()\n",
        "\n",
        "  # Run whole dataset to get statistics -- normally wouldn't do this\n",
        "  pred_train = model(x_train[:,None,:])\n",
        "  pred_val = model(x_val[:,None,:])\n",
        "  _, predicted_train_class = torch.max(pred_train.data, 1)\n",
        "  _, predicted_val_class = torch.max(pred_val.data, 1)\n",
        "  errors_train[epoch] = 100 - 100 * (predicted_train_class == y_train).float().sum() / len(y_train)\n",
        "  errors_val[epoch]= 100 - 100 * (predicted_val_class == y_val).float().sum() / len(y_val)\n",
        "  losses_train[epoch] = loss_function(pred_train, y_train).item()\n",
        "  losses_val[epoch]= loss_function(pred_val, y_val).item()\n",
        "  print(f'Epoch {epoch:5d}, train loss {losses_train[epoch]:.6f}, train error {errors_train[epoch]:3.2f},  val loss {losses_val[epoch]:.6f}, percent error {errors_val[epoch]:3.2f}')\n",
        "\n",
        "  # tell scheduler to consider updating learning rate\n",
        "  scheduler.step()\n",
        "\n",
        "# Plot the results\n",
        "fig, ax = plt.subplots()\n",
        "ax.plot(errors_train,'r-',label='train')\n",
        "ax.plot(errors_val,'b-',label='validation')\n",
        "ax.set_ylim(0,100); ax.set_xlim(0,n_epoch)\n",
        "ax.set_xlabel('Epoch'); ax.set_ylabel('Error')\n",
        "ax.set_title('Part I: Validation Result %3.2f'%(errors_val[-1]))\n",
        "ax.legend()\n",
        "plt.show()"
      ],
      "metadata": {
        "id": "NYw8I_3mmX5c",
        "outputId": "2bf5f0a8-5cc7-45a5-83ef-8d0e74ada2b2",
        "colab": {
          "base_uri": "https://localhost:8080/",
          "height": 1000
        }
      },
      "execution_count": 9,
      "outputs": [
        {
          "output_type": "stream",
          "name": "stdout",
          "text": [
            "Epoch     0, train loss 1.740252, train error 70.38,  val loss 1.760268, percent error 74.10\n",
            "Epoch     1, train loss 1.506643, train error 62.47,  val loss 1.510007, percent error 65.40\n",
            "Epoch     2, train loss 1.335209, train error 54.40,  val loss 1.334052, percent error 57.30\n",
            "Epoch     3, train loss 1.244322, train error 51.28,  val loss 1.250145, percent error 52.80\n",
            "Epoch     4, train loss 1.265371, train error 52.50,  val loss 1.275837, percent error 55.30\n",
            "Epoch     5, train loss 1.190787, train error 48.60,  val loss 1.240133, percent error 53.70\n",
            "Epoch     6, train loss 1.093161, train error 44.35,  val loss 1.122825, percent error 46.90\n",
            "Epoch     7, train loss 1.019891, train error 40.12,  val loss 1.040096, percent error 42.40\n",
            "Epoch     8, train loss 0.957031, train error 37.03,  val loss 0.982070, percent error 39.10\n",
            "Epoch     9, train loss 0.775928, train error 29.30,  val loss 0.816173, percent error 29.90\n",
            "Epoch    10, train loss 0.680340, train error 26.03,  val loss 0.739808, percent error 28.70\n",
            "Epoch    11, train loss 0.624236, train error 23.07,  val loss 0.674024, percent error 24.90\n",
            "Epoch    12, train loss 0.560013, train error 20.57,  val loss 0.608543, percent error 23.00\n",
            "Epoch    13, train loss 0.457237, train error 16.32,  val loss 0.536245, percent error 19.20\n",
            "Epoch    14, train loss 0.557295, train error 19.62,  val loss 0.645561, percent error 22.40\n",
            "Epoch    15, train loss 0.540081, train error 18.05,  val loss 0.639062, percent error 20.50\n",
            "Epoch    16, train loss 0.330410, train error 11.15,  val loss 0.423657, percent error 14.90\n",
            "Epoch    17, train loss 0.301399, train error 10.07,  val loss 0.425892, percent error 14.40\n",
            "Epoch    18, train loss 0.263315, train error 8.93,  val loss 0.396998, percent error 13.20\n",
            "Epoch    19, train loss 0.233771, train error 8.20,  val loss 0.389586, percent error 13.20\n",
            "Epoch    20, train loss 0.203072, train error 7.12,  val loss 0.352553, percent error 12.00\n",
            "Epoch    21, train loss 0.179312, train error 5.88,  val loss 0.334779, percent error 11.30\n",
            "Epoch    22, train loss 0.199925, train error 6.93,  val loss 0.374929, percent error 12.80\n",
            "Epoch    23, train loss 0.161964, train error 5.07,  val loss 0.325282, percent error 11.30\n",
            "Epoch    24, train loss 0.159101, train error 5.32,  val loss 0.322270, percent error 10.20\n",
            "Epoch    25, train loss 0.167754, train error 5.62,  val loss 0.333100, percent error 11.00\n",
            "Epoch    26, train loss 0.170882, train error 6.07,  val loss 0.353806, percent error 11.40\n",
            "Epoch    27, train loss 0.150590, train error 5.22,  val loss 0.319522, percent error 10.70\n",
            "Epoch    28, train loss 0.133855, train error 4.25,  val loss 0.311322, percent error 10.50\n",
            "Epoch    29, train loss 0.142532, train error 4.90,  val loss 0.329925, percent error 10.40\n",
            "Epoch    30, train loss 0.152515, train error 5.32,  val loss 0.338731, percent error 11.00\n",
            "Epoch    31, train loss 0.139825, train error 4.95,  val loss 0.341442, percent error 10.30\n",
            "Epoch    32, train loss 0.114569, train error 3.55,  val loss 0.307278, percent error 9.50\n",
            "Epoch    33, train loss 0.119116, train error 3.95,  val loss 0.316607, percent error 10.30\n",
            "Epoch    34, train loss 0.104651, train error 3.30,  val loss 0.300967, percent error 8.90\n",
            "Epoch    35, train loss 0.112681, train error 3.62,  val loss 0.329187, percent error 10.90\n",
            "Epoch    36, train loss 0.098644, train error 3.10,  val loss 0.307740, percent error 9.70\n",
            "Epoch    37, train loss 0.112045, train error 3.75,  val loss 0.336750, percent error 10.10\n",
            "Epoch    38, train loss 0.125982, train error 4.62,  val loss 0.333531, percent error 9.50\n",
            "Epoch    39, train loss 0.096000, train error 3.00,  val loss 0.318225, percent error 9.50\n",
            "Epoch    40, train loss 0.083789, train error 2.72,  val loss 0.299707, percent error 9.20\n",
            "Epoch    41, train loss 0.085721, train error 2.70,  val loss 0.307863, percent error 10.00\n",
            "Epoch    42, train loss 0.079845, train error 2.55,  val loss 0.290744, percent error 8.50\n",
            "Epoch    43, train loss 0.077200, train error 2.38,  val loss 0.297228, percent error 9.10\n",
            "Epoch    44, train loss 0.080941, train error 2.45,  val loss 0.314368, percent error 9.60\n",
            "Epoch    45, train loss 0.070597, train error 1.97,  val loss 0.300283, percent error 8.80\n",
            "Epoch    46, train loss 0.071028, train error 1.95,  val loss 0.309594, percent error 9.40\n",
            "Epoch    47, train loss 0.070625, train error 2.07,  val loss 0.311990, percent error 9.20\n",
            "Epoch    48, train loss 0.070918, train error 2.00,  val loss 0.316423, percent error 8.80\n",
            "Epoch    49, train loss 0.070260, train error 1.97,  val loss 0.323033, percent error 9.20\n",
            "Epoch    50, train loss 0.079143, train error 2.60,  val loss 0.344410, percent error 9.20\n",
            "Epoch    51, train loss 0.062233, train error 1.55,  val loss 0.310814, percent error 8.70\n",
            "Epoch    52, train loss 0.060896, train error 1.62,  val loss 0.314611, percent error 8.70\n",
            "Epoch    53, train loss 0.062406, train error 1.68,  val loss 0.321534, percent error 8.80\n",
            "Epoch    54, train loss 0.060601, train error 1.70,  val loss 0.325954, percent error 9.20\n",
            "Epoch    55, train loss 0.059699, train error 1.50,  val loss 0.322859, percent error 9.60\n",
            "Epoch    56, train loss 0.062267, train error 1.97,  val loss 0.320078, percent error 8.80\n",
            "Epoch    57, train loss 0.057601, train error 1.45,  val loss 0.325813, percent error 8.50\n",
            "Epoch    58, train loss 0.061512, train error 1.78,  val loss 0.338599, percent error 9.10\n",
            "Epoch    59, train loss 0.054098, train error 1.20,  val loss 0.324119, percent error 8.90\n",
            "Epoch    60, train loss 0.051896, train error 1.10,  val loss 0.327477, percent error 9.20\n",
            "Epoch    61, train loss 0.051926, train error 1.18,  val loss 0.327519, percent error 9.20\n",
            "Epoch    62, train loss 0.051913, train error 1.12,  val loss 0.324324, percent error 9.20\n",
            "Epoch    63, train loss 0.050325, train error 1.03,  val loss 0.330499, percent error 8.90\n",
            "Epoch    64, train loss 0.051679, train error 1.25,  val loss 0.335316, percent error 8.80\n",
            "Epoch    65, train loss 0.050760, train error 1.22,  val loss 0.331025, percent error 9.00\n",
            "Epoch    66, train loss 0.051511, train error 1.32,  val loss 0.340540, percent error 9.20\n",
            "Epoch    67, train loss 0.049471, train error 1.15,  val loss 0.335780, percent error 9.00\n",
            "Epoch    68, train loss 0.050028, train error 1.28,  val loss 0.334385, percent error 9.20\n",
            "Epoch    69, train loss 0.048559, train error 1.10,  val loss 0.333869, percent error 8.90\n",
            "Epoch    70, train loss 0.048069, train error 1.00,  val loss 0.340653, percent error 9.50\n",
            "Epoch    71, train loss 0.047174, train error 1.05,  val loss 0.336416, percent error 9.20\n",
            "Epoch    72, train loss 0.046526, train error 1.03,  val loss 0.339552, percent error 9.10\n",
            "Epoch    73, train loss 0.046759, train error 1.00,  val loss 0.340528, percent error 9.00\n",
            "Epoch    74, train loss 0.045397, train error 0.95,  val loss 0.341776, percent error 9.00\n",
            "Epoch    75, train loss 0.047194, train error 1.18,  val loss 0.341674, percent error 9.10\n",
            "Epoch    76, train loss 0.047020, train error 1.00,  val loss 0.353019, percent error 9.70\n",
            "Epoch    77, train loss 0.046029, train error 1.12,  val loss 0.348306, percent error 9.30\n",
            "Epoch    78, train loss 0.046641, train error 1.22,  val loss 0.348032, percent error 9.30\n",
            "Epoch    79, train loss 0.046230, train error 1.03,  val loss 0.356365, percent error 9.60\n",
            "Epoch    80, train loss 0.043034, train error 0.88,  val loss 0.348466, percent error 9.00\n",
            "Epoch    81, train loss 0.043381, train error 0.90,  val loss 0.351349, percent error 9.00\n",
            "Epoch    82, train loss 0.042881, train error 0.90,  val loss 0.351250, percent error 9.10\n",
            "Epoch    83, train loss 0.042540, train error 0.85,  val loss 0.353293, percent error 9.50\n",
            "Epoch    84, train loss 0.042407, train error 0.88,  val loss 0.351933, percent error 9.10\n",
            "Epoch    85, train loss 0.042644, train error 0.82,  val loss 0.354369, percent error 9.10\n",
            "Epoch    86, train loss 0.041952, train error 0.95,  val loss 0.356886, percent error 9.00\n",
            "Epoch    87, train loss 0.041856, train error 0.88,  val loss 0.355597, percent error 9.00\n",
            "Epoch    88, train loss 0.042812, train error 0.93,  val loss 0.359867, percent error 9.40\n",
            "Epoch    89, train loss 0.042499, train error 0.95,  val loss 0.356782, percent error 9.10\n",
            "Epoch    90, train loss 0.041348, train error 0.82,  val loss 0.358722, percent error 9.10\n",
            "Epoch    91, train loss 0.041712, train error 0.93,  val loss 0.357648, percent error 9.10\n",
            "Epoch    92, train loss 0.041147, train error 0.80,  val loss 0.360807, percent error 9.10\n",
            "Epoch    93, train loss 0.041499, train error 0.85,  val loss 0.364352, percent error 9.10\n",
            "Epoch    94, train loss 0.040677, train error 0.85,  val loss 0.357325, percent error 9.30\n",
            "Epoch    95, train loss 0.040384, train error 0.78,  val loss 0.362299, percent error 8.90\n",
            "Epoch    96, train loss 0.040770, train error 0.85,  val loss 0.364751, percent error 9.40\n",
            "Epoch    97, train loss 0.039865, train error 0.82,  val loss 0.360576, percent error 9.00\n",
            "Epoch    98, train loss 0.039660, train error 0.80,  val loss 0.363190, percent error 9.00\n",
            "Epoch    99, train loss 0.039935, train error 0.78,  val loss 0.362538, percent error 9.00\n"
          ]
        },
        {
          "output_type": "display_data",
          "data": {
            "text/plain": [
              "<Figure size 640x480 with 1 Axes>"
            ],
            "image/png": "[encoded data removed]"
          },
          "metadata": {}
        }
      ]
    }
  ]
}