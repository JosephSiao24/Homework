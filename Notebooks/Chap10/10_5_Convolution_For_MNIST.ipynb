{
  "nbformat": 4,
  "nbformat_minor": 0,
  "metadata": {
    "colab": {
      "provenance": [],
      "include_colab_link": true
    },
    "kernelspec": {
      "name": "python3",
      "display_name": "Python 3"
    },
    "language_info": {
      "name": "python"
    }
  },
  "cells": [
    {
      "cell_type": "markdown",
      "metadata": {
        "id": "view-in-github",
        "colab_type": "text"
      },
      "source": [
        "<a href=\"https://colab.research.google.com/github/JosephSiao24/Homework/blob/main/Notebooks/Chap10/10_5_Convolution_For_MNIST.ipynb\" target=\"_parent\"><img src=\"https://colab.research.google.com/assets/colab-badge.svg\" alt=\"Open In Colab\"/></a>"
      ]
    },
    {
      "cell_type": "markdown",
      "source": [
        "# **Notebook 10.5: Convolution for MNIST**\n",
        "\n",
        "This notebook builds a proper network for 2D convolution.  It works with the MNIST dataset (figure 15.15a), which was the original classic dataset for classifying images.  The network will take a 28x28 grayscale image and classify it into one of 10 classes representing a digit.\n",
        "\n",
        "The code is adapted from https://nextjournal.com/gkoehler/pytorch-mnist\n",
        "\n",
        "Work through the cells below, running each cell in turn. In various places you will see the words \"TODO\". Follow the instructions at these places and make predictions about what is going to happen or write code to complete the functions.\n",
        "\n",
        "Contact me at udlbookmail@gmail.com if you find any mistakes or have any suggestions.\n"
      ],
      "metadata": {
        "id": "t9vk9Elugvmi"
      }
    },
    {
      "cell_type": "code",
      "source": [
        "import torch\n",
        "import torchvision\n",
        "import torch.nn as nn\n",
        "import torch.nn.functional as F\n",
        "import torch.optim as optim\n",
        "import matplotlib.pyplot as plt\n",
        "import random"
      ],
      "metadata": {
        "id": "YrXWAH7sUWvU"
      },
      "execution_count": 1,
      "outputs": []
    },
    {
      "cell_type": "code",
      "source": [
        "# Run this once to load the train and test data straight into a dataloader class\n",
        "# that will provide the batches\n",
        "\n",
        "# (It may complain that some files are missing because the files seem to have been\n",
        "# reorganized on the underlying website, but it still seems to work). If everything is working\n",
        "# properly, then the whole notebook should run to the end without further problems\n",
        "# even before you make changes.\n",
        "batch_size_train = 64\n",
        "batch_size_test = 1000\n",
        "\n",
        "# TODO Change this directory to point towards an existing directory\n",
        "myDir = '/files/'\n",
        "\n",
        "train_loader = torch.utils.data.DataLoader(\n",
        "  torchvision.datasets.MNIST(myDir, train=True, download=True,\n",
        "                             transform=torchvision.transforms.Compose([\n",
        "                               torchvision.transforms.ToTensor(),\n",
        "                               torchvision.transforms.Normalize(\n",
        "                                 (0.1307,), (0.3081,))\n",
        "                             ])),\n",
        "  batch_size=batch_size_train, shuffle=True)\n",
        "\n",
        "test_loader = torch.utils.data.DataLoader(\n",
        "  torchvision.datasets.MNIST(myDir, train=False, download=True,\n",
        "                             transform=torchvision.transforms.Compose([\n",
        "                               torchvision.transforms.ToTensor(),\n",
        "                               torchvision.transforms.Normalize(\n",
        "                                 (0.1307,), (0.3081,))\n",
        "                             ])),\n",
        "  batch_size=batch_size_test, shuffle=True)"
      ],
      "metadata": {
        "id": "wScBGXXFVadm",
        "colab": {
          "base_uri": "https://localhost:8080/"
        },
        "outputId": "8cf10347-89ea-4d22-cbd4-7658c8a6e54c"
      },
      "execution_count": 2,
      "outputs": [
        {
          "output_type": "stream",
          "name": "stderr",
          "text": [
            "100%|██████████| 9.91M/9.91M [00:00<00:00, 36.3MB/s]\n",
            "100%|██████████| 28.9k/28.9k [00:00<00:00, 1.09MB/s]\n",
            "100%|██████████| 1.65M/1.65M [00:00<00:00, 9.93MB/s]\n",
            "100%|██████████| 4.54k/4.54k [00:00<00:00, 9.70MB/s]\n"
          ]
        }
      ]
    },
    {
      "cell_type": "code",
      "source": [
        "# Let's draw some of the training data\n",
        "examples = enumerate(test_loader)\n",
        "batch_idx, (example_data, example_targets) = next(examples)\n",
        "\n",
        "fig = plt.figure()\n",
        "for i in range(6):\n",
        "  plt.subplot(2,3,i+1)\n",
        "  plt.tight_layout()\n",
        "  plt.imshow(example_data[i][0], cmap='gray', interpolation='none')\n",
        "  plt.title(\"Ground Truth: {}\".format(example_targets[i]))\n",
        "  plt.xticks([])\n",
        "  plt.yticks([])\n",
        "plt.show()"
      ],
      "metadata": {
        "id": "8bKADvLHbiV5",
        "colab": {
          "base_uri": "https://localhost:8080/",
          "height": 438
        },
        "outputId": "baa7f1bc-8d27-4bff-8ebd-e769c42b92b5"
      },
      "execution_count": 3,
      "outputs": [
        {
          "output_type": "display_data",
          "data": {
            "text/plain": [
              "<Figure size 640x480 with 6 Axes>"
            ],
            "image/png": "[encoded data removed]"
          },
          "metadata": {}
        }
      ]
    },
    {
      "cell_type": "markdown",
      "source": [
        "Define the network.  This is a more typical way to define a network than the sequential structure.  We define a class for the network, and define the parameters in the constructor.  Then we use a function called forward to actually run the network.  It's easy to see how you might use residual connections in this format."
      ],
      "metadata": {
        "id": "_sFvRDGrl4qe"
      }
    },
    {
      "cell_type": "code",
      "source": [
        "from os import X_OK\n",
        "# TODO Change this class to implement\n",
        "# 1. A valid convolution with kernel size 5, 1 input channel and 10 output channels\n",
        "# 2. A max pooling operation over a 2x2 area\n",
        "# 3. A Relu\n",
        "# 4. A valid convolution with kernel size 5, 10 input channels and 20 output channels\n",
        "# 5. A 2D Dropout layer\n",
        "# 6. A max pooling operation over a 2x2 area\n",
        "# 7. A relu\n",
        "# 8. A flattening operation\n",
        "# 9. A fully connected layer mapping from (whatever dimensions we are at-- find out using .shape) to 50\n",
        "# 10. A ReLU\n",
        "# 11. A fully connected layer mapping from 50 to 10 dimensions\n",
        "# 12. A softmax function.\n",
        "\n",
        "# Replace this class which implements a minimal network (which still does okay)\n",
        "class Net(nn.Module):\n",
        "    def __init__(self):\n",
        "        super(Net, self).__init__()\n",
        "        # 1. A valid convolution with kernel size 5, 1 input channel and 10 output channels\n",
        "        self.conv1 = nn.Conv2d(1, 10, kernel_size=5)\n",
        "        # 4. A valid convolution with kernel size 5, 10 input channels and 20 output channels\n",
        "        self.conv2 = nn.Conv2d(10, 20, kernel_size=5)\n",
        "        # 5. A 2D Dropout layer\n",
        "        self.drop = nn.Dropout2d()\n",
        "        # 9. A fully connected layer mapping from (whatever dimensions we are at-- find out using .shape) to 50\n",
        "        # After the first conv (28-5+1=24) and pooling (24/2=12), then second conv (12-5+1=8) and pooling (8/2=4)\n",
        "        # we have 20 channels and a 4x4 image. So 20*4*4 = 320\n",
        "        self.fc1 = nn.Linear(320,50)\n",
        "        # 11. A fully connected layer mapping from 50 to 10 dimensions\n",
        "        self.fc2 = nn.Linear(50,10)\n",
        "    def forward(self, x):\n",
        "        x = self.conv1(x)\n",
        "        x = F.max_pool2d(x,2)\n",
        "        x = F.relu(x)\n",
        "        x = self.conv2(x)\n",
        "       # x = self.drop(x)\n",
        "        x = F.max_pool2d(x,2)\n",
        "        x = F.relu(x)\n",
        "        x = x.flatten(1)\n",
        "        x = self.fc1(x)\n",
        "        x = self.fc2(x)\n",
        "        x = F.log_softmax(x, dim=1) # Apply softmax along the dimension of classes\n",
        "        return x"
      ],
      "metadata": {
        "id": "EQkvw2KOPVl7"
      },
      "execution_count": 21,
      "outputs": []
    },
    {
      "cell_type": "code",
      "source": [
        "# He initialization of weights\n",
        "def weights_init(layer_in):\n",
        "  if isinstance(layer_in, nn.Linear):\n",
        "    nn.init.kaiming_uniform_(layer_in.weight)\n",
        "    layer_in.bias.data.fill_(0.0)"
      ],
      "metadata": {
        "id": "qWZtkCZcU_dg"
      },
      "execution_count": 22,
      "outputs": []
    },
    {
      "cell_type": "code",
      "source": [
        "# Create network\n",
        "model = Net()\n",
        "# Initialize model weights\n",
        "model.apply(weights_init)\n",
        "# Define optimizer\n",
        "optimizer = optim.SGD(model.parameters(), lr=0.01, momentum=0.5)"
      ],
      "metadata": {
        "id": "FslroPJJffrh"
      },
      "execution_count": 23,
      "outputs": []
    },
    {
      "cell_type": "code",
      "source": [
        "# Main training routine\n",
        "def train(epoch):\n",
        "  model.train()\n",
        "  # Get each\n",
        "  for batch_idx, (data, target) in enumerate(train_loader):\n",
        "    optimizer.zero_grad()\n",
        "    output = model(data)\n",
        "    loss = F.nll_loss(output, target)\n",
        "    loss.backward()\n",
        "    optimizer.step()\n",
        "    # Store results\n",
        "    if batch_idx % 10 == 0:\n",
        "      print('Train Epoch: {} [{}/{}]\\tLoss: {:.6f}'.format(\n",
        "        epoch, batch_idx * len(data), len(train_loader.dataset), loss.item()))"
      ],
      "metadata": {
        "id": "xKQd9PzkQ766"
      },
      "execution_count": 24,
      "outputs": []
    },
    {
      "cell_type": "code",
      "source": [
        "# Run on test data\n",
        "def test():\n",
        "  model.eval()\n",
        "  test_loss = 0\n",
        "  correct = 0\n",
        "  with torch.no_grad():\n",
        "    for data, target in test_loader:\n",
        "      output = model(data)\n",
        "      test_loss += F.nll_loss(output, target, size_average=False).item()\n",
        "      pred = output.data.max(1, keepdim=True)[1]\n",
        "      correct += pred.eq(target.data.view_as(pred)).sum()\n",
        "  test_loss /= len(test_loader.dataset)\n",
        "  print('\\nTest set: Avg. loss: {:.4f}, Accuracy: {}/{} ({:.0f}%)\\n'.format(\n",
        "    test_loss, correct, len(test_loader.dataset),\n",
        "    100. * correct / len(test_loader.dataset)))"
      ],
      "metadata": {
        "id": "Byn-f7qWRLxX"
      },
      "execution_count": 25,
      "outputs": []
    },
    {
      "cell_type": "code",
      "source": [
        "# Get initial performance\n",
        "test()\n",
        "# Train for three epochs\n",
        "n_epochs = 3\n",
        "for epoch in range(1, n_epochs + 1):\n",
        "  train(epoch)\n",
        "  test()"
      ],
      "metadata": {
        "id": "YgLaex1pfhqz",
        "colab": {
          "base_uri": "https://localhost:8080/",
          "height": 1000
        },
        "outputId": "e915b252-8f09-44c0-b8a2-2de7e15da3ad"
      },
      "execution_count": 26,
      "outputs": [
        {
          "output_type": "stream",
          "name": "stdout",
          "text": [
            "\n",
            "Test set: Avg. loss: 2.8666, Accuracy: 1165/10000 (12%)\n",
            "\n",
            "Train Epoch: 1 [0/60000]\tLoss: 2.943376\n",
            "Train Epoch: 1 [640/60000]\tLoss: 1.868060\n",
            "Train Epoch: 1 [1280/60000]\tLoss: 1.308611\n",
            "Train Epoch: 1 [1920/60000]\tLoss: 1.139461\n",
            "Train Epoch: 1 [2560/60000]\tLoss: 0.689316\n",
            "Train Epoch: 1 [3200/60000]\tLoss: 0.552178\n",
            "Train Epoch: 1 [3840/60000]\tLoss: 0.353125\n",
            "Train Epoch: 1 [4480/60000]\tLoss: 0.474011\n",
            "Train Epoch: 1 [5120/60000]\tLoss: 0.180701\n",
            "Train Epoch: 1 [5760/60000]\tLoss: 0.287573\n",
            "Train Epoch: 1 [6400/60000]\tLoss: 0.317718\n",
            "Train Epoch: 1 [7040/60000]\tLoss: 0.320233\n",
            "Train Epoch: 1 [7680/60000]\tLoss: 0.336977\n",
            "Train Epoch: 1 [8320/60000]\tLoss: 0.386333\n",
            "Train Epoch: 1 [8960/60000]\tLoss: 0.247271\n",
            "Train Epoch: 1 [9600/60000]\tLoss: 0.292759\n",
            "Train Epoch: 1 [10240/60000]\tLoss: 0.337417\n",
            "Train Epoch: 1 [10880/60000]\tLoss: 0.206035\n",
            "Train Epoch: 1 [11520/60000]\tLoss: 0.348525\n",
            "Train Epoch: 1 [12160/60000]\tLoss: 0.142272\n",
            "Train Epoch: 1 [12800/60000]\tLoss: 0.122136\n",
            "Train Epoch: 1 [13440/60000]\tLoss: 0.212579\n",
            "Train Epoch: 1 [14080/60000]\tLoss: 0.133522\n",
            "Train Epoch: 1 [14720/60000]\tLoss: 0.184588\n",
            "Train Epoch: 1 [15360/60000]\tLoss: 0.114464\n",
            "Train Epoch: 1 [16000/60000]\tLoss: 0.104467\n",
            "Train Epoch: 1 [16640/60000]\tLoss: 0.154573\n",
            "Train Epoch: 1 [17280/60000]\tLoss: 0.147237\n",
            "Train Epoch: 1 [17920/60000]\tLoss: 0.205072\n",
            "Train Epoch: 1 [18560/60000]\tLoss: 0.088952\n",
            "Train Epoch: 1 [19200/60000]\tLoss: 0.143113\n",
            "Train Epoch: 1 [19840/60000]\tLoss: 0.194232\n",
            "Train Epoch: 1 [20480/60000]\tLoss: 0.376371\n",
            "Train Epoch: 1 [21120/60000]\tLoss: 0.200301\n",
            "Train Epoch: 1 [21760/60000]\tLoss: 0.110006\n",
            "Train Epoch: 1 [22400/60000]\tLoss: 0.151305\n",
            "Train Epoch: 1 [23040/60000]\tLoss: 0.245864\n",
            "Train Epoch: 1 [23680/60000]\tLoss: 0.168647\n",
            "Train Epoch: 1 [24320/60000]\tLoss: 0.189475\n",
            "Train Epoch: 1 [24960/60000]\tLoss: 0.183387\n",
            "Train Epoch: 1 [25600/60000]\tLoss: 0.313752\n",
            "Train Epoch: 1 [26240/60000]\tLoss: 0.138681\n",
            "Train Epoch: 1 [26880/60000]\tLoss: 0.280284\n",
            "Train Epoch: 1 [27520/60000]\tLoss: 0.117248\n",
            "Train Epoch: 1 [28160/60000]\tLoss: 0.293104\n",
            "Train Epoch: 1 [28800/60000]\tLoss: 0.100455\n",
            "Train Epoch: 1 [29440/60000]\tLoss: 0.065497\n",
            "Train Epoch: 1 [30080/60000]\tLoss: 0.180058\n",
            "Train Epoch: 1 [30720/60000]\tLoss: 0.314333\n",
            "Train Epoch: 1 [31360/60000]\tLoss: 0.077104\n",
            "Train Epoch: 1 [32000/60000]\tLoss: 0.078235\n",
            "Train Epoch: 1 [32640/60000]\tLoss: 0.110269\n",
            "Train Epoch: 1 [33280/60000]\tLoss: 0.178037\n",
            "Train Epoch: 1 [33920/60000]\tLoss: 0.185629\n",
            "Train Epoch: 1 [34560/60000]\tLoss: 0.182118\n",
            "Train Epoch: 1 [35200/60000]\tLoss: 0.082323\n",
            "Train Epoch: 1 [35840/60000]\tLoss: 0.338809\n",
            "Train Epoch: 1 [36480/60000]\tLoss: 0.188515\n",
            "Train Epoch: 1 [37120/60000]\tLoss: 0.125103\n",
            "Train Epoch: 1 [37760/60000]\tLoss: 0.115446\n",
            "Train Epoch: 1 [38400/60000]\tLoss: 0.156082\n",
            "Train Epoch: 1 [39040/60000]\tLoss: 0.150765\n",
            "Train Epoch: 1 [39680/60000]\tLoss: 0.152741\n",
            "Train Epoch: 1 [40320/60000]\tLoss: 0.126925\n",
            "Train Epoch: 1 [40960/60000]\tLoss: 0.123728\n",
            "Train Epoch: 1 [41600/60000]\tLoss: 0.182010\n",
            "Train Epoch: 1 [42240/60000]\tLoss: 0.097796\n",
            "Train Epoch: 1 [42880/60000]\tLoss: 0.145204\n",
            "Train Epoch: 1 [43520/60000]\tLoss: 0.040914\n",
            "Train Epoch: 1 [44160/60000]\tLoss: 0.206513\n",
            "Train Epoch: 1 [44800/60000]\tLoss: 0.138479\n",
            "Train Epoch: 1 [45440/60000]\tLoss: 0.112638\n",
            "Train Epoch: 1 [46080/60000]\tLoss: 0.117932\n",
            "Train Epoch: 1 [46720/60000]\tLoss: 0.152017\n",
            "Train Epoch: 1 [47360/60000]\tLoss: 0.204572\n",
            "Train Epoch: 1 [48000/60000]\tLoss: 0.087893\n",
            "Train Epoch: 1 [48640/60000]\tLoss: 0.075085\n",
            "Train Epoch: 1 [49280/60000]\tLoss: 0.085649\n",
            "Train Epoch: 1 [49920/60000]\tLoss: 0.039265\n",
            "Train Epoch: 1 [50560/60000]\tLoss: 0.069724\n",
            "Train Epoch: 1 [51200/60000]\tLoss: 0.100680\n",
            "Train Epoch: 1 [51840/60000]\tLoss: 0.067307\n",
            "Train Epoch: 1 [52480/60000]\tLoss: 0.109046\n",
            "Train Epoch: 1 [53120/60000]\tLoss: 0.067530\n",
            "Train Epoch: 1 [53760/60000]\tLoss: 0.093935\n",
            "Train Epoch: 1 [54400/60000]\tLoss: 0.070635\n",
            "Train Epoch: 1 [55040/60000]\tLoss: 0.219977\n",
            "Train Epoch: 1 [55680/60000]\tLoss: 0.057231\n",
            "Train Epoch: 1 [56320/60000]\tLoss: 0.016877\n",
            "Train Epoch: 1 [56960/60000]\tLoss: 0.113549\n",
            "Train Epoch: 1 [57600/60000]\tLoss: 0.176820\n",
            "Train Epoch: 1 [58240/60000]\tLoss: 0.040774\n",
            "Train Epoch: 1 [58880/60000]\tLoss: 0.146488\n",
            "Train Epoch: 1 [59520/60000]\tLoss: 0.035746\n",
            "\n",
            "Test set: Avg. loss: 0.1063, Accuracy: 9672/10000 (97%)\n",
            "\n",
            "Train Epoch: 2 [0/60000]\tLoss: 0.116443\n",
            "Train Epoch: 2 [640/60000]\tLoss: 0.044045\n",
            "Train Epoch: 2 [1280/60000]\tLoss: 0.049470\n",
            "Train Epoch: 2 [1920/60000]\tLoss: 0.052507\n",
            "Train Epoch: 2 [2560/60000]\tLoss: 0.087806\n",
            "Train Epoch: 2 [3200/60000]\tLoss: 0.073357\n",
            "Train Epoch: 2 [3840/60000]\tLoss: 0.033214\n",
            "Train Epoch: 2 [4480/60000]\tLoss: 0.150563\n",
            "Train Epoch: 2 [5120/60000]\tLoss: 0.042532\n",
            "Train Epoch: 2 [5760/60000]\tLoss: 0.043453\n",
            "Train Epoch: 2 [6400/60000]\tLoss: 0.207645\n",
            "Train Epoch: 2 [7040/60000]\tLoss: 0.246006\n",
            "Train Epoch: 2 [7680/60000]\tLoss: 0.039464\n",
            "Train Epoch: 2 [8320/60000]\tLoss: 0.178967\n",
            "Train Epoch: 2 [8960/60000]\tLoss: 0.087836\n",
            "Train Epoch: 2 [9600/60000]\tLoss: 0.066235\n",
            "Train Epoch: 2 [10240/60000]\tLoss: 0.188274\n",
            "Train Epoch: 2 [10880/60000]\tLoss: 0.185162\n"
          ]
        },
        {
          "output_type": "error",
          "ename": "KeyboardInterrupt",
          "evalue": "",
          "traceback": [
            "\u001b[0;31m---------------------------------------------------------------------------\u001b[0m",
            "\u001b[0;31mKeyboardInterrupt\u001b[0m                         Traceback (most recent call last)",
            "\u001b[0;32m/tmp/ipython-input-75063713.py\u001b[0m in \u001b[0;36m<cell line: 0>\u001b[0;34m()\u001b[0m\n\u001b[1;32m      4\u001b[0m \u001b[0mn_epochs\u001b[0m \u001b[0;34m=\u001b[0m \u001b[0;36m3\u001b[0m\u001b[0;34m\u001b[0m\u001b[0;34m\u001b[0m\u001b[0m\n\u001b[1;32m      5\u001b[0m \u001b[0;32mfor\u001b[0m \u001b[0mepoch\u001b[0m \u001b[0;32min\u001b[0m \u001b[0mrange\u001b[0m\u001b[0;34m(\u001b[0m\u001b[0;36m1\u001b[0m\u001b[0;34m,\u001b[0m \u001b[0mn_epochs\u001b[0m \u001b[0;34m+\u001b[0m \u001b[0;36m1\u001b[0m\u001b[0;34m)\u001b[0m\u001b[0;34m:\u001b[0m\u001b[0;34m\u001b[0m\u001b[0;34m\u001b[0m\u001b[0m\n\u001b[0;32m----> 6\u001b[0;31m   \u001b[0mtrain\u001b[0m\u001b[0;34m(\u001b[0m\u001b[0mepoch\u001b[0m\u001b[0;34m)\u001b[0m\u001b[0;34m\u001b[0m\u001b[0;34m\u001b[0m\u001b[0m\n\u001b[0m\u001b[1;32m      7\u001b[0m   \u001b[0mtest\u001b[0m\u001b[0;34m(\u001b[0m\u001b[0;34m)\u001b[0m\u001b[0;34m\u001b[0m\u001b[0;34m\u001b[0m\u001b[0m\n",
            "\u001b[0;32m/tmp/ipython-input-1380870903.py\u001b[0m in \u001b[0;36mtrain\u001b[0;34m(epoch)\u001b[0m\n\u001b[1;32m      5\u001b[0m   \u001b[0;32mfor\u001b[0m \u001b[0mbatch_idx\u001b[0m\u001b[0;34m,\u001b[0m \u001b[0;34m(\u001b[0m\u001b[0mdata\u001b[0m\u001b[0;34m,\u001b[0m \u001b[0mtarget\u001b[0m\u001b[0;34m)\u001b[0m \u001b[0;32min\u001b[0m \u001b[0menumerate\u001b[0m\u001b[0;34m(\u001b[0m\u001b[0mtrain_loader\u001b[0m\u001b[0;34m)\u001b[0m\u001b[0;34m:\u001b[0m\u001b[0;34m\u001b[0m\u001b[0;34m\u001b[0m\u001b[0m\n\u001b[1;32m      6\u001b[0m     \u001b[0moptimizer\u001b[0m\u001b[0;34m.\u001b[0m\u001b[0mzero_grad\u001b[0m\u001b[0;34m(\u001b[0m\u001b[0;34m)\u001b[0m\u001b[0;34m\u001b[0m\u001b[0;34m\u001b[0m\u001b[0m\n\u001b[0;32m----> 7\u001b[0;31m     \u001b[0moutput\u001b[0m \u001b[0;34m=\u001b[0m \u001b[0mmodel\u001b[0m\u001b[0;34m(\u001b[0m\u001b[0mdata\u001b[0m\u001b[0;34m)\u001b[0m\u001b[0;34m\u001b[0m\u001b[0;34m\u001b[0m\u001b[0m\n\u001b[0m\u001b[1;32m      8\u001b[0m     \u001b[0mloss\u001b[0m \u001b[0;34m=\u001b[0m \u001b[0mF\u001b[0m\u001b[0;34m.\u001b[0m\u001b[0mnll_loss\u001b[0m\u001b[0;34m(\u001b[0m\u001b[0moutput\u001b[0m\u001b[0;34m,\u001b[0m \u001b[0mtarget\u001b[0m\u001b[0;34m)\u001b[0m\u001b[0;34m\u001b[0m\u001b[0;34m\u001b[0m\u001b[0m\n\u001b[1;32m      9\u001b[0m     \u001b[0mloss\u001b[0m\u001b[0;34m.\u001b[0m\u001b[0mbackward\u001b[0m\u001b[0;34m(\u001b[0m\u001b[0;34m)\u001b[0m\u001b[0;34m\u001b[0m\u001b[0;34m\u001b[0m\u001b[0m\n",
            "\u001b[0;32m/usr/local/lib/python3.12/dist-packages/torch/nn/modules/module.py\u001b[0m in \u001b[0;36m_wrapped_call_impl\u001b[0;34m(self, *args, **kwargs)\u001b[0m\n\u001b[1;32m   1771\u001b[0m             \u001b[0;32mreturn\u001b[0m \u001b[0mself\u001b[0m\u001b[0;34m.\u001b[0m\u001b[0m_compiled_call_impl\u001b[0m\u001b[0;34m(\u001b[0m\u001b[0;34m*\u001b[0m\u001b[0margs\u001b[0m\u001b[0;34m,\u001b[0m \u001b[0;34m**\u001b[0m\u001b[0mkwargs\u001b[0m\u001b[0;34m)\u001b[0m  \u001b[0;31m# type: ignore[misc]\u001b[0m\u001b[0;34m\u001b[0m\u001b[0;34m\u001b[0m\u001b[0m\n\u001b[1;32m   1772\u001b[0m         \u001b[0;32melse\u001b[0m\u001b[0;34m:\u001b[0m\u001b[0;34m\u001b[0m\u001b[0;34m\u001b[0m\u001b[0m\n\u001b[0;32m-> 1773\u001b[0;31m             \u001b[0;32mreturn\u001b[0m \u001b[0mself\u001b[0m\u001b[0;34m.\u001b[0m\u001b[0m_call_impl\u001b[0m\u001b[0;34m(\u001b[0m\u001b[0;34m*\u001b[0m\u001b[0margs\u001b[0m\u001b[0;34m,\u001b[0m \u001b[0;34m**\u001b[0m\u001b[0mkwargs\u001b[0m\u001b[0;34m)\u001b[0m\u001b[0;34m\u001b[0m\u001b[0;34m\u001b[0m\u001b[0m\n\u001b[0m\u001b[1;32m   1774\u001b[0m \u001b[0;34m\u001b[0m\u001b[0m\n\u001b[1;32m   1775\u001b[0m     \u001b[0;31m# torchrec tests the code consistency with the following code\u001b[0m\u001b[0;34m\u001b[0m\u001b[0;34m\u001b[0m\u001b[0m\n",
            "\u001b[0;32m/usr/local/lib/python3.12/dist-packages/torch/nn/modules/module.py\u001b[0m in \u001b[0;36m_call_impl\u001b[0;34m(self, *args, **kwargs)\u001b[0m\n\u001b[1;32m   1782\u001b[0m                 \u001b[0;32mor\u001b[0m \u001b[0m_global_backward_pre_hooks\u001b[0m \u001b[0;32mor\u001b[0m \u001b[0m_global_backward_hooks\u001b[0m\u001b[0;34m\u001b[0m\u001b[0;34m\u001b[0m\u001b[0m\n\u001b[1;32m   1783\u001b[0m                 or _global_forward_hooks or _global_forward_pre_hooks):\n\u001b[0;32m-> 1784\u001b[0;31m             \u001b[0;32mreturn\u001b[0m \u001b[0mforward_call\u001b[0m\u001b[0;34m(\u001b[0m\u001b[0;34m*\u001b[0m\u001b[0margs\u001b[0m\u001b[0;34m,\u001b[0m \u001b[0;34m**\u001b[0m\u001b[0mkwargs\u001b[0m\u001b[0;34m)\u001b[0m\u001b[0;34m\u001b[0m\u001b[0;34m\u001b[0m\u001b[0m\n\u001b[0m\u001b[1;32m   1785\u001b[0m \u001b[0;34m\u001b[0m\u001b[0m\n\u001b[1;32m   1786\u001b[0m         \u001b[0mresult\u001b[0m \u001b[0;34m=\u001b[0m \u001b[0;32mNone\u001b[0m\u001b[0;34m\u001b[0m\u001b[0;34m\u001b[0m\u001b[0m\n",
            "\u001b[0;32m/tmp/ipython-input-2134781917.py\u001b[0m in \u001b[0;36mforward\u001b[0;34m(self, x)\u001b[0m\n\u001b[1;32m     32\u001b[0m     \u001b[0;32mdef\u001b[0m \u001b[0mforward\u001b[0m\u001b[0;34m(\u001b[0m\u001b[0mself\u001b[0m\u001b[0;34m,\u001b[0m \u001b[0mx\u001b[0m\u001b[0;34m)\u001b[0m\u001b[0;34m:\u001b[0m\u001b[0;34m\u001b[0m\u001b[0;34m\u001b[0m\u001b[0m\n\u001b[1;32m     33\u001b[0m         \u001b[0mx\u001b[0m \u001b[0;34m=\u001b[0m \u001b[0mself\u001b[0m\u001b[0;34m.\u001b[0m\u001b[0mconv1\u001b[0m\u001b[0;34m(\u001b[0m\u001b[0mx\u001b[0m\u001b[0;34m)\u001b[0m\u001b[0;34m\u001b[0m\u001b[0;34m\u001b[0m\u001b[0m\n\u001b[0;32m---> 34\u001b[0;31m         \u001b[0mx\u001b[0m \u001b[0;34m=\u001b[0m \u001b[0mF\u001b[0m\u001b[0;34m.\u001b[0m\u001b[0mmax_pool2d\u001b[0m\u001b[0;34m(\u001b[0m\u001b[0mx\u001b[0m\u001b[0;34m,\u001b[0m\u001b[0;36m2\u001b[0m\u001b[0;34m)\u001b[0m\u001b[0;34m\u001b[0m\u001b[0;34m\u001b[0m\u001b[0m\n\u001b[0m\u001b[1;32m     35\u001b[0m         \u001b[0mx\u001b[0m \u001b[0;34m=\u001b[0m \u001b[0mF\u001b[0m\u001b[0;34m.\u001b[0m\u001b[0mrelu\u001b[0m\u001b[0;34m(\u001b[0m\u001b[0mx\u001b[0m\u001b[0;34m)\u001b[0m\u001b[0;34m\u001b[0m\u001b[0;34m\u001b[0m\u001b[0m\n\u001b[1;32m     36\u001b[0m         \u001b[0mx\u001b[0m \u001b[0;34m=\u001b[0m \u001b[0mself\u001b[0m\u001b[0;34m.\u001b[0m\u001b[0mconv2\u001b[0m\u001b[0;34m(\u001b[0m\u001b[0mx\u001b[0m\u001b[0;34m)\u001b[0m\u001b[0;34m\u001b[0m\u001b[0;34m\u001b[0m\u001b[0m\n",
            "\u001b[0;32m/usr/local/lib/python3.12/dist-packages/torch/_jit_internal.py\u001b[0m in \u001b[0;36mfn\u001b[0;34m(*args, **kwargs)\u001b[0m\n\u001b[1;32m    625\u001b[0m             \u001b[0;32mreturn\u001b[0m \u001b[0mif_true\u001b[0m\u001b[0;34m(\u001b[0m\u001b[0;34m*\u001b[0m\u001b[0margs\u001b[0m\u001b[0;34m,\u001b[0m \u001b[0;34m**\u001b[0m\u001b[0mkwargs\u001b[0m\u001b[0;34m)\u001b[0m\u001b[0;34m\u001b[0m\u001b[0;34m\u001b[0m\u001b[0m\n\u001b[1;32m    626\u001b[0m         \u001b[0;32melse\u001b[0m\u001b[0;34m:\u001b[0m\u001b[0;34m\u001b[0m\u001b[0;34m\u001b[0m\u001b[0m\n\u001b[0;32m--> 627\u001b[0;31m             \u001b[0;32mreturn\u001b[0m \u001b[0mif_false\u001b[0m\u001b[0;34m(\u001b[0m\u001b[0;34m*\u001b[0m\u001b[0margs\u001b[0m\u001b[0;34m,\u001b[0m \u001b[0;34m**\u001b[0m\u001b[0mkwargs\u001b[0m\u001b[0;34m)\u001b[0m\u001b[0;34m\u001b[0m\u001b[0;34m\u001b[0m\u001b[0m\n\u001b[0m\u001b[1;32m    628\u001b[0m \u001b[0;34m\u001b[0m\u001b[0m\n\u001b[1;32m    629\u001b[0m     \u001b[0;32mif\u001b[0m \u001b[0mif_true\u001b[0m\u001b[0;34m.\u001b[0m\u001b[0m__doc__\u001b[0m \u001b[0;32mis\u001b[0m \u001b[0;32mNone\u001b[0m \u001b[0;32mand\u001b[0m \u001b[0mif_false\u001b[0m\u001b[0;34m.\u001b[0m\u001b[0m__doc__\u001b[0m \u001b[0;32mis\u001b[0m \u001b[0;32mnot\u001b[0m \u001b[0;32mNone\u001b[0m\u001b[0;34m:\u001b[0m\u001b[0;34m\u001b[0m\u001b[0;34m\u001b[0m\u001b[0m\n",
            "\u001b[0;32m/usr/local/lib/python3.12/dist-packages/torch/nn/functional.py\u001b[0m in \u001b[0;36m_max_pool2d\u001b[0;34m(input, kernel_size, stride, padding, dilation, ceil_mode, return_indices)\u001b[0m\n\u001b[1;32m    825\u001b[0m     \u001b[0;32mif\u001b[0m \u001b[0mstride\u001b[0m \u001b[0;32mis\u001b[0m \u001b[0;32mNone\u001b[0m\u001b[0;34m:\u001b[0m\u001b[0;34m\u001b[0m\u001b[0;34m\u001b[0m\u001b[0m\n\u001b[1;32m    826\u001b[0m         \u001b[0mstride\u001b[0m \u001b[0;34m=\u001b[0m \u001b[0mtorch\u001b[0m\u001b[0;34m.\u001b[0m\u001b[0mjit\u001b[0m\u001b[0;34m.\u001b[0m\u001b[0mannotate\u001b[0m\u001b[0;34m(\u001b[0m\u001b[0mlist\u001b[0m\u001b[0;34m[\u001b[0m\u001b[0mint\u001b[0m\u001b[0;34m]\u001b[0m\u001b[0;34m,\u001b[0m \u001b[0;34m[\u001b[0m\u001b[0;34m]\u001b[0m\u001b[0;34m)\u001b[0m\u001b[0;34m\u001b[0m\u001b[0;34m\u001b[0m\u001b[0m\n\u001b[0;32m--> 827\u001b[0;31m     \u001b[0;32mreturn\u001b[0m \u001b[0mtorch\u001b[0m\u001b[0;34m.\u001b[0m\u001b[0mmax_pool2d\u001b[0m\u001b[0;34m(\u001b[0m\u001b[0minput\u001b[0m\u001b[0;34m,\u001b[0m \u001b[0mkernel_size\u001b[0m\u001b[0;34m,\u001b[0m \u001b[0mstride\u001b[0m\u001b[0;34m,\u001b[0m \u001b[0mpadding\u001b[0m\u001b[0;34m,\u001b[0m \u001b[0mdilation\u001b[0m\u001b[0;34m,\u001b[0m \u001b[0mceil_mode\u001b[0m\u001b[0;34m)\u001b[0m\u001b[0;34m\u001b[0m\u001b[0;34m\u001b[0m\u001b[0m\n\u001b[0m\u001b[1;32m    828\u001b[0m \u001b[0;34m\u001b[0m\u001b[0m\n\u001b[1;32m    829\u001b[0m \u001b[0;34m\u001b[0m\u001b[0m\n",
            "\u001b[0;31mKeyboardInterrupt\u001b[0m: "
          ]
        }
      ]
    },
    {
      "cell_type": "code",
      "source": [
        "# Run network on data we got before and show predictions\n",
        "output = model(example_data)\n",
        "\n",
        "fig = plt.figure()\n",
        "for i in range(10):\n",
        "  plt.subplot(5,5,i+1)\n",
        "  plt.tight_layout()\n",
        "  plt.imshow(example_data[i][0], cmap='gray', interpolation='none')\n",
        "  plt.title(\"Prediction: {}\".format(\n",
        "    output.data.max(1, keepdim=True)[1][i].item()))\n",
        "  plt.xticks([])\n",
        "  plt.yticks([])\n",
        "plt.show()"
      ],
      "metadata": {
        "id": "o7fRUAy9Se1B",
        "colab": {
          "base_uri": "https://localhost:8080/",
          "height": 207
        },
        "outputId": "ac1e1c6a-472c-4ac5-e146-4e2ce63c45b1"
      },
      "execution_count": 20,
      "outputs": [
        {
          "output_type": "display_data",
          "data": {
            "text/plain": [
              "<Figure size 640x480 with 10 Axes>"
            ],
            "image/png": "[encoded data removed]"
          },
          "metadata": {}
        }
      ]
    }
  ]
}